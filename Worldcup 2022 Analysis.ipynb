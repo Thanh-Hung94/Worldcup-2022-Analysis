{
 "cells": [
  {
   "cell_type": "code",
   "execution_count": 1,
   "id": "f1e286ef-62c7-4284-8769-518dddec88bb",
   "metadata": {},
   "outputs": [],
   "source": [
    "import pandas as pd\n",
    "import numpy as np\n",
    "from IPython.display import JSON\n",
    "\n",
    "import matplotlib.pyplot as plt\n",
    "import seaborn as sns"
   ]
  },
  {
   "cell_type": "code",
   "execution_count": 2,
   "id": "c2a87582-f125-48a4-95ea-1e12358b22ac",
   "metadata": {},
   "outputs": [
    {
     "ename": "FileNotFoundError",
     "evalue": "[Errno 2] No such file or directory: './TeamData/team_data.csv'",
     "output_type": "error",
     "traceback": [
      "\u001b[1;31m---------------------------------------------------------------------------\u001b[0m",
      "\u001b[1;31mFileNotFoundError\u001b[0m                         Traceback (most recent call last)",
      "Input \u001b[1;32mIn [2]\u001b[0m, in \u001b[0;36m<cell line: 2>\u001b[1;34m()\u001b[0m\n\u001b[0;32m      1\u001b[0m \u001b[38;5;66;03m# os.chdir(\"../TeamData\")\u001b[39;00m\n\u001b[1;32m----> 2\u001b[0m df_team \u001b[38;5;241m=\u001b[39m \u001b[43mpd\u001b[49m\u001b[38;5;241;43m.\u001b[39;49m\u001b[43mread_csv\u001b[49m\u001b[43m(\u001b[49m\u001b[38;5;124;43m\"\u001b[39;49m\u001b[38;5;124;43m./TeamData/team_data.csv\u001b[39;49m\u001b[38;5;124;43m\"\u001b[39;49m\u001b[43m)\u001b[49m\n\u001b[0;32m      3\u001b[0m df_player \u001b[38;5;241m=\u001b[39m pd\u001b[38;5;241m.\u001b[39mread_csv(\u001b[38;5;124m\"\u001b[39m\u001b[38;5;124m./Player Data/player_stats.csv\u001b[39m\u001b[38;5;124m\"\u001b[39m)\n",
      "File \u001b[1;32m~\\AppData\\Local\\Programs\\Python\\Python310\\lib\\site-packages\\pandas\\util\\_decorators.py:311\u001b[0m, in \u001b[0;36mdeprecate_nonkeyword_arguments.<locals>.decorate.<locals>.wrapper\u001b[1;34m(*args, **kwargs)\u001b[0m\n\u001b[0;32m    305\u001b[0m \u001b[38;5;28;01mif\u001b[39;00m \u001b[38;5;28mlen\u001b[39m(args) \u001b[38;5;241m>\u001b[39m num_allow_args:\n\u001b[0;32m    306\u001b[0m     warnings\u001b[38;5;241m.\u001b[39mwarn(\n\u001b[0;32m    307\u001b[0m         msg\u001b[38;5;241m.\u001b[39mformat(arguments\u001b[38;5;241m=\u001b[39marguments),\n\u001b[0;32m    308\u001b[0m         \u001b[38;5;167;01mFutureWarning\u001b[39;00m,\n\u001b[0;32m    309\u001b[0m         stacklevel\u001b[38;5;241m=\u001b[39mstacklevel,\n\u001b[0;32m    310\u001b[0m     )\n\u001b[1;32m--> 311\u001b[0m \u001b[38;5;28;01mreturn\u001b[39;00m func(\u001b[38;5;241m*\u001b[39margs, \u001b[38;5;241m*\u001b[39m\u001b[38;5;241m*\u001b[39mkwargs)\n",
      "File \u001b[1;32m~\\AppData\\Local\\Programs\\Python\\Python310\\lib\\site-packages\\pandas\\io\\parsers\\readers.py:680\u001b[0m, in \u001b[0;36mread_csv\u001b[1;34m(filepath_or_buffer, sep, delimiter, header, names, index_col, usecols, squeeze, prefix, mangle_dupe_cols, dtype, engine, converters, true_values, false_values, skipinitialspace, skiprows, skipfooter, nrows, na_values, keep_default_na, na_filter, verbose, skip_blank_lines, parse_dates, infer_datetime_format, keep_date_col, date_parser, dayfirst, cache_dates, iterator, chunksize, compression, thousands, decimal, lineterminator, quotechar, quoting, doublequote, escapechar, comment, encoding, encoding_errors, dialect, error_bad_lines, warn_bad_lines, on_bad_lines, delim_whitespace, low_memory, memory_map, float_precision, storage_options)\u001b[0m\n\u001b[0;32m    665\u001b[0m kwds_defaults \u001b[38;5;241m=\u001b[39m _refine_defaults_read(\n\u001b[0;32m    666\u001b[0m     dialect,\n\u001b[0;32m    667\u001b[0m     delimiter,\n\u001b[1;32m   (...)\u001b[0m\n\u001b[0;32m    676\u001b[0m     defaults\u001b[38;5;241m=\u001b[39m{\u001b[38;5;124m\"\u001b[39m\u001b[38;5;124mdelimiter\u001b[39m\u001b[38;5;124m\"\u001b[39m: \u001b[38;5;124m\"\u001b[39m\u001b[38;5;124m,\u001b[39m\u001b[38;5;124m\"\u001b[39m},\n\u001b[0;32m    677\u001b[0m )\n\u001b[0;32m    678\u001b[0m kwds\u001b[38;5;241m.\u001b[39mupdate(kwds_defaults)\n\u001b[1;32m--> 680\u001b[0m \u001b[38;5;28;01mreturn\u001b[39;00m \u001b[43m_read\u001b[49m\u001b[43m(\u001b[49m\u001b[43mfilepath_or_buffer\u001b[49m\u001b[43m,\u001b[49m\u001b[43m \u001b[49m\u001b[43mkwds\u001b[49m\u001b[43m)\u001b[49m\n",
      "File \u001b[1;32m~\\AppData\\Local\\Programs\\Python\\Python310\\lib\\site-packages\\pandas\\io\\parsers\\readers.py:575\u001b[0m, in \u001b[0;36m_read\u001b[1;34m(filepath_or_buffer, kwds)\u001b[0m\n\u001b[0;32m    572\u001b[0m _validate_names(kwds\u001b[38;5;241m.\u001b[39mget(\u001b[38;5;124m\"\u001b[39m\u001b[38;5;124mnames\u001b[39m\u001b[38;5;124m\"\u001b[39m, \u001b[38;5;28;01mNone\u001b[39;00m))\n\u001b[0;32m    574\u001b[0m \u001b[38;5;66;03m# Create the parser.\u001b[39;00m\n\u001b[1;32m--> 575\u001b[0m parser \u001b[38;5;241m=\u001b[39m TextFileReader(filepath_or_buffer, \u001b[38;5;241m*\u001b[39m\u001b[38;5;241m*\u001b[39mkwds)\n\u001b[0;32m    577\u001b[0m \u001b[38;5;28;01mif\u001b[39;00m chunksize \u001b[38;5;129;01mor\u001b[39;00m iterator:\n\u001b[0;32m    578\u001b[0m     \u001b[38;5;28;01mreturn\u001b[39;00m parser\n",
      "File \u001b[1;32m~\\AppData\\Local\\Programs\\Python\\Python310\\lib\\site-packages\\pandas\\io\\parsers\\readers.py:933\u001b[0m, in \u001b[0;36mTextFileReader.__init__\u001b[1;34m(self, f, engine, **kwds)\u001b[0m\n\u001b[0;32m    930\u001b[0m     \u001b[38;5;28mself\u001b[39m\u001b[38;5;241m.\u001b[39moptions[\u001b[38;5;124m\"\u001b[39m\u001b[38;5;124mhas_index_names\u001b[39m\u001b[38;5;124m\"\u001b[39m] \u001b[38;5;241m=\u001b[39m kwds[\u001b[38;5;124m\"\u001b[39m\u001b[38;5;124mhas_index_names\u001b[39m\u001b[38;5;124m\"\u001b[39m]\n\u001b[0;32m    932\u001b[0m \u001b[38;5;28mself\u001b[39m\u001b[38;5;241m.\u001b[39mhandles: IOHandles \u001b[38;5;241m|\u001b[39m \u001b[38;5;28;01mNone\u001b[39;00m \u001b[38;5;241m=\u001b[39m \u001b[38;5;28;01mNone\u001b[39;00m\n\u001b[1;32m--> 933\u001b[0m \u001b[38;5;28mself\u001b[39m\u001b[38;5;241m.\u001b[39m_engine \u001b[38;5;241m=\u001b[39m \u001b[38;5;28;43mself\u001b[39;49m\u001b[38;5;241;43m.\u001b[39;49m\u001b[43m_make_engine\u001b[49m\u001b[43m(\u001b[49m\u001b[43mf\u001b[49m\u001b[43m,\u001b[49m\u001b[43m \u001b[49m\u001b[38;5;28;43mself\u001b[39;49m\u001b[38;5;241;43m.\u001b[39;49m\u001b[43mengine\u001b[49m\u001b[43m)\u001b[49m\n",
      "File \u001b[1;32m~\\AppData\\Local\\Programs\\Python\\Python310\\lib\\site-packages\\pandas\\io\\parsers\\readers.py:1217\u001b[0m, in \u001b[0;36mTextFileReader._make_engine\u001b[1;34m(self, f, engine)\u001b[0m\n\u001b[0;32m   1213\u001b[0m     mode \u001b[38;5;241m=\u001b[39m \u001b[38;5;124m\"\u001b[39m\u001b[38;5;124mrb\u001b[39m\u001b[38;5;124m\"\u001b[39m\n\u001b[0;32m   1214\u001b[0m \u001b[38;5;66;03m# error: No overload variant of \"get_handle\" matches argument types\u001b[39;00m\n\u001b[0;32m   1215\u001b[0m \u001b[38;5;66;03m# \"Union[str, PathLike[str], ReadCsvBuffer[bytes], ReadCsvBuffer[str]]\"\u001b[39;00m\n\u001b[0;32m   1216\u001b[0m \u001b[38;5;66;03m# , \"str\", \"bool\", \"Any\", \"Any\", \"Any\", \"Any\", \"Any\"\u001b[39;00m\n\u001b[1;32m-> 1217\u001b[0m \u001b[38;5;28mself\u001b[39m\u001b[38;5;241m.\u001b[39mhandles \u001b[38;5;241m=\u001b[39m \u001b[43mget_handle\u001b[49m\u001b[43m(\u001b[49m\u001b[43m  \u001b[49m\u001b[38;5;66;43;03m# type: ignore[call-overload]\u001b[39;49;00m\n\u001b[0;32m   1218\u001b[0m \u001b[43m    \u001b[49m\u001b[43mf\u001b[49m\u001b[43m,\u001b[49m\n\u001b[0;32m   1219\u001b[0m \u001b[43m    \u001b[49m\u001b[43mmode\u001b[49m\u001b[43m,\u001b[49m\n\u001b[0;32m   1220\u001b[0m \u001b[43m    \u001b[49m\u001b[43mencoding\u001b[49m\u001b[38;5;241;43m=\u001b[39;49m\u001b[38;5;28;43mself\u001b[39;49m\u001b[38;5;241;43m.\u001b[39;49m\u001b[43moptions\u001b[49m\u001b[38;5;241;43m.\u001b[39;49m\u001b[43mget\u001b[49m\u001b[43m(\u001b[49m\u001b[38;5;124;43m\"\u001b[39;49m\u001b[38;5;124;43mencoding\u001b[39;49m\u001b[38;5;124;43m\"\u001b[39;49m\u001b[43m,\u001b[49m\u001b[43m \u001b[49m\u001b[38;5;28;43;01mNone\u001b[39;49;00m\u001b[43m)\u001b[49m\u001b[43m,\u001b[49m\n\u001b[0;32m   1221\u001b[0m \u001b[43m    \u001b[49m\u001b[43mcompression\u001b[49m\u001b[38;5;241;43m=\u001b[39;49m\u001b[38;5;28;43mself\u001b[39;49m\u001b[38;5;241;43m.\u001b[39;49m\u001b[43moptions\u001b[49m\u001b[38;5;241;43m.\u001b[39;49m\u001b[43mget\u001b[49m\u001b[43m(\u001b[49m\u001b[38;5;124;43m\"\u001b[39;49m\u001b[38;5;124;43mcompression\u001b[39;49m\u001b[38;5;124;43m\"\u001b[39;49m\u001b[43m,\u001b[49m\u001b[43m \u001b[49m\u001b[38;5;28;43;01mNone\u001b[39;49;00m\u001b[43m)\u001b[49m\u001b[43m,\u001b[49m\n\u001b[0;32m   1222\u001b[0m \u001b[43m    \u001b[49m\u001b[43mmemory_map\u001b[49m\u001b[38;5;241;43m=\u001b[39;49m\u001b[38;5;28;43mself\u001b[39;49m\u001b[38;5;241;43m.\u001b[39;49m\u001b[43moptions\u001b[49m\u001b[38;5;241;43m.\u001b[39;49m\u001b[43mget\u001b[49m\u001b[43m(\u001b[49m\u001b[38;5;124;43m\"\u001b[39;49m\u001b[38;5;124;43mmemory_map\u001b[39;49m\u001b[38;5;124;43m\"\u001b[39;49m\u001b[43m,\u001b[49m\u001b[43m \u001b[49m\u001b[38;5;28;43;01mFalse\u001b[39;49;00m\u001b[43m)\u001b[49m\u001b[43m,\u001b[49m\n\u001b[0;32m   1223\u001b[0m \u001b[43m    \u001b[49m\u001b[43mis_text\u001b[49m\u001b[38;5;241;43m=\u001b[39;49m\u001b[43mis_text\u001b[49m\u001b[43m,\u001b[49m\n\u001b[0;32m   1224\u001b[0m \u001b[43m    \u001b[49m\u001b[43merrors\u001b[49m\u001b[38;5;241;43m=\u001b[39;49m\u001b[38;5;28;43mself\u001b[39;49m\u001b[38;5;241;43m.\u001b[39;49m\u001b[43moptions\u001b[49m\u001b[38;5;241;43m.\u001b[39;49m\u001b[43mget\u001b[49m\u001b[43m(\u001b[49m\u001b[38;5;124;43m\"\u001b[39;49m\u001b[38;5;124;43mencoding_errors\u001b[39;49m\u001b[38;5;124;43m\"\u001b[39;49m\u001b[43m,\u001b[49m\u001b[43m \u001b[49m\u001b[38;5;124;43m\"\u001b[39;49m\u001b[38;5;124;43mstrict\u001b[39;49m\u001b[38;5;124;43m\"\u001b[39;49m\u001b[43m)\u001b[49m\u001b[43m,\u001b[49m\n\u001b[0;32m   1225\u001b[0m \u001b[43m    \u001b[49m\u001b[43mstorage_options\u001b[49m\u001b[38;5;241;43m=\u001b[39;49m\u001b[38;5;28;43mself\u001b[39;49m\u001b[38;5;241;43m.\u001b[39;49m\u001b[43moptions\u001b[49m\u001b[38;5;241;43m.\u001b[39;49m\u001b[43mget\u001b[49m\u001b[43m(\u001b[49m\u001b[38;5;124;43m\"\u001b[39;49m\u001b[38;5;124;43mstorage_options\u001b[39;49m\u001b[38;5;124;43m\"\u001b[39;49m\u001b[43m,\u001b[49m\u001b[43m \u001b[49m\u001b[38;5;28;43;01mNone\u001b[39;49;00m\u001b[43m)\u001b[49m\u001b[43m,\u001b[49m\n\u001b[0;32m   1226\u001b[0m \u001b[43m\u001b[49m\u001b[43m)\u001b[49m\n\u001b[0;32m   1227\u001b[0m \u001b[38;5;28;01massert\u001b[39;00m \u001b[38;5;28mself\u001b[39m\u001b[38;5;241m.\u001b[39mhandles \u001b[38;5;129;01mis\u001b[39;00m \u001b[38;5;129;01mnot\u001b[39;00m \u001b[38;5;28;01mNone\u001b[39;00m\n\u001b[0;32m   1228\u001b[0m f \u001b[38;5;241m=\u001b[39m \u001b[38;5;28mself\u001b[39m\u001b[38;5;241m.\u001b[39mhandles\u001b[38;5;241m.\u001b[39mhandle\n",
      "File \u001b[1;32m~\\AppData\\Local\\Programs\\Python\\Python310\\lib\\site-packages\\pandas\\io\\common.py:789\u001b[0m, in \u001b[0;36mget_handle\u001b[1;34m(path_or_buf, mode, encoding, compression, memory_map, is_text, errors, storage_options)\u001b[0m\n\u001b[0;32m    784\u001b[0m \u001b[38;5;28;01melif\u001b[39;00m \u001b[38;5;28misinstance\u001b[39m(handle, \u001b[38;5;28mstr\u001b[39m):\n\u001b[0;32m    785\u001b[0m     \u001b[38;5;66;03m# Check whether the filename is to be opened in binary mode.\u001b[39;00m\n\u001b[0;32m    786\u001b[0m     \u001b[38;5;66;03m# Binary mode does not support 'encoding' and 'newline'.\u001b[39;00m\n\u001b[0;32m    787\u001b[0m     \u001b[38;5;28;01mif\u001b[39;00m ioargs\u001b[38;5;241m.\u001b[39mencoding \u001b[38;5;129;01mand\u001b[39;00m \u001b[38;5;124m\"\u001b[39m\u001b[38;5;124mb\u001b[39m\u001b[38;5;124m\"\u001b[39m \u001b[38;5;129;01mnot\u001b[39;00m \u001b[38;5;129;01min\u001b[39;00m ioargs\u001b[38;5;241m.\u001b[39mmode:\n\u001b[0;32m    788\u001b[0m         \u001b[38;5;66;03m# Encoding\u001b[39;00m\n\u001b[1;32m--> 789\u001b[0m         handle \u001b[38;5;241m=\u001b[39m \u001b[38;5;28;43mopen\u001b[39;49m\u001b[43m(\u001b[49m\n\u001b[0;32m    790\u001b[0m \u001b[43m            \u001b[49m\u001b[43mhandle\u001b[49m\u001b[43m,\u001b[49m\n\u001b[0;32m    791\u001b[0m \u001b[43m            \u001b[49m\u001b[43mioargs\u001b[49m\u001b[38;5;241;43m.\u001b[39;49m\u001b[43mmode\u001b[49m\u001b[43m,\u001b[49m\n\u001b[0;32m    792\u001b[0m \u001b[43m            \u001b[49m\u001b[43mencoding\u001b[49m\u001b[38;5;241;43m=\u001b[39;49m\u001b[43mioargs\u001b[49m\u001b[38;5;241;43m.\u001b[39;49m\u001b[43mencoding\u001b[49m\u001b[43m,\u001b[49m\n\u001b[0;32m    793\u001b[0m \u001b[43m            \u001b[49m\u001b[43merrors\u001b[49m\u001b[38;5;241;43m=\u001b[39;49m\u001b[43merrors\u001b[49m\u001b[43m,\u001b[49m\n\u001b[0;32m    794\u001b[0m \u001b[43m            \u001b[49m\u001b[43mnewline\u001b[49m\u001b[38;5;241;43m=\u001b[39;49m\u001b[38;5;124;43m\"\u001b[39;49m\u001b[38;5;124;43m\"\u001b[39;49m\u001b[43m,\u001b[49m\n\u001b[0;32m    795\u001b[0m \u001b[43m        \u001b[49m\u001b[43m)\u001b[49m\n\u001b[0;32m    796\u001b[0m     \u001b[38;5;28;01melse\u001b[39;00m:\n\u001b[0;32m    797\u001b[0m         \u001b[38;5;66;03m# Binary mode\u001b[39;00m\n\u001b[0;32m    798\u001b[0m         handle \u001b[38;5;241m=\u001b[39m \u001b[38;5;28mopen\u001b[39m(handle, ioargs\u001b[38;5;241m.\u001b[39mmode)\n",
      "\u001b[1;31mFileNotFoundError\u001b[0m: [Errno 2] No such file or directory: './TeamData/team_data.csv'"
     ]
    }
   ],
   "source": [
    "# os.chdir(\"../TeamData\")\n",
    "df_team = pd.read_csv(\"./TeamData/team_data.csv\")\n",
    "df_player = pd.read_csv(\"./Player Data/player_stats.csv\")"
   ]
  },
  {
   "cell_type": "code",
   "execution_count": null,
   "id": "1d4c80f0-abf1-416e-8ec6-87b2d5f53f4a",
   "metadata": {},
   "outputs": [],
   "source": [
    "df_team.columns"
   ]
  },
  {
   "cell_type": "code",
   "execution_count": null,
   "id": "27ed3570-8bcf-4097-98b3-bacb47d2d17b",
   "metadata": {},
   "outputs": [],
   "source": [
    "df_player.columns"
   ]
  },
  {
   "cell_type": "markdown",
   "id": "a109d839-d874-4f88-b12d-4fcccde78c40",
   "metadata": {},
   "source": [
    "<strong>What we need to figure out:<strong>\n",
    "- Overview: Game played?, Goal scored?, Yellow Card?, Red Cards?\n",
    "- Card Stats\n",
    "- Most team have Shots, Corners, Fouls, Yellow Cards, Red Cards.\n",
    "- Frequent Scoreline (First Half, Fulltime, Extra Time).\n",
    "- InviduTop Goals, Top assists, Top Clean Sheets, Most Games"
   ]
  },
  {
   "cell_type": "markdown",
   "id": "9514e7cb-6999-49ef-9a39-3847f2393f6a",
   "metadata": {},
   "source": [
    "# Overview"
   ]
  },
  {
   "cell_type": "code",
   "execution_count": null,
   "id": "16eb136b-73b0-4094-a470-b2859a673b06",
   "metadata": {},
   "outputs": [],
   "source": [
    "games_played = df_team['games'].sum() /2\n",
    "goals_scored = df_team['goals'].sum()\n",
    "total_yellow_card = df_team['cards_yellow'].sum()\n",
    "total_red_card = df_team['cards_red'].sum()\n",
    "players_age_average = df_team['avg_age'].sum() / 32\n",
    "\n",
    "print(\"GAMES PLAYED: \", games_played)\n",
    "print(\"GOALS SCORED: \", goals_scored)\n",
    "print(\"YELLOW CARD: \", total_yellow_card)\n",
    "print(\"RED CARD: \", total_red_card)\n",
    "print(\"PLAYERS AGE AVERAGE: \", players_age_average)"
   ]
  },
  {
   "cell_type": "markdown",
   "id": "7ce86ace-879c-4e75-ad53-045fe347f139",
   "metadata": {},
   "source": [
    "# Card Stats"
   ]
  },
  {
   "cell_type": "markdown",
   "id": "c7a25bec-e36d-464c-ac7a-4c2d0e0616ad",
   "metadata": {},
   "source": [
    "## Number of Yellow and Red Cards in Worldcup 2022"
   ]
  },
  {
   "cell_type": "code",
   "execution_count": null,
   "id": "eeedb1d9-f80c-46a6-a481-bc951fb79575",
   "metadata": {},
   "outputs": [],
   "source": [
    "team = df_team['team']\n",
    "yellow_cards = df_team['cards_yellow']\n",
    "red_cards = df_team['cards_red']\n",
    "width = 0.8\n",
    "\n",
    "fig, ax = plt.subplots(figsize=(16, 10))\n",
    "ax.bar(team, yellow_cards, width, label='Yellow Cards', color='yellow')\n",
    "ax.bar(team, red_cards, width, bottom=yellow_cards, label='Red Cards', color='red')\n",
    "ax.set_ylabel('Amounts of Cards', fontsize=14)\n",
    "ax.set_title('Number of Yellow and Red Cards in Worldcup 2022', fontsize=20, fontweight='bold')\n",
    "ax.legend(fontsize=12)\n",
    "plt.xticks(team, rotation=90, fontsize=12)\n",
    "plt.yticks(np.arange(0,20,2))\n",
    "\n",
    "# Add annotation to bars\n",
    "for index, data in enumerate(yellow_cards):\n",
    "    plt.text(x=index, y=1, s=f\"{data}\", ha='center')\n",
    "\n",
    "for index, data in enumerate(red_cards):\n",
    "    plt.text(x=index, y=data + yellow_cards[index] + 0.5, s=f\"{data}\", size=14, ha='center')\n",
    "\n",
    "\n",
    "\n",
    "plt.show()"
   ]
  },
  {
   "cell_type": "markdown",
   "id": "54d93e7c-ef7f-4198-8b47-aa42811f9c7f",
   "metadata": {},
   "source": [
    "## Number of cards (yellow + red) per position"
   ]
  },
  {
   "cell_type": "code",
   "execution_count": null,
   "id": "6a69478a-2eac-4390-be4d-cfd9c7259d87",
   "metadata": {},
   "outputs": [],
   "source": [
    "cards_per_position = df_player[['player', 'position', 'cards_yellow', 'cards_red']].groupby('position').agg({'cards_yellow':'sum', 'cards_red':'sum', 'player':'count'})\n",
    "cards_per_position"
   ]
  },
  {
   "cell_type": "code",
   "execution_count": null,
   "id": "66b4a7d4-9db7-425f-b0bf-ecee5f70d938",
   "metadata": {},
   "outputs": [],
   "source": [
    "cards_per_position = df_player[['player', 'position', 'cards_yellow', 'cards_red']].groupby('position').agg({'cards_yellow':'sum', 'cards_red':'sum', 'player':'count'})\n",
    "cards_per_position.rename(index={'GK':'Goalkeeper', 'DF':'Defender', 'MF':'Midfielder', 'FW':'Forward'}, inplace=True)\n",
    "cards_per_position['Total Cards'] = cards_per_position.cards_yellow + cards_per_position.cards_red\n",
    "cards_per_position = cards_per_position.sort_values(by=['Total Cards'])\n",
    "\n",
    "positions = cards_per_position.index\n",
    "total_cards_per_position = cards_per_position['Total Cards']\n",
    "\n",
    "fig, ax = plt.subplots(figsize=(16,12))\n",
    "ax.barh(positions, total_cards_per_position)\n",
    "ax.spines[['top', 'bottom', 'left', 'right']].set_visible(False) # Hide the top, bottom, left and right axis\n",
    "ax.set_title('Number of Yellow and Red Cards per position', fontsize=20, fontweight='bold')\n",
    "plt.xticks(fontsize=12)\n",
    "plt.yticks(fontsize=15)\n",
    "\n",
    "# Add annotation to bar\n",
    "for i in ax.patches:\n",
    "    plt.text(x=i.get_width() + 0.2, y=i.get_y() + 0.35, s=str(i.get_width()), fontsize=15)\n",
    "\n",
    "plt.show()"
   ]
  },
  {
   "cell_type": "markdown",
   "id": "981f386f-62e9-4bc5-8885-95f870e5e767",
   "metadata": {},
   "source": [
    "# Goal and Assists"
   ]
  },
  {
   "cell_type": "markdown",
   "id": "96117cba-c6b9-4b40-8ed5-c3ad2db77f73",
   "metadata": {},
   "source": [
    "## Amount of Goals and Assists in Worldcup 2022"
   ]
  },
  {
   "cell_type": "code",
   "execution_count": null,
   "id": "202075ac-e3ea-43a8-a8e0-bb62c76aa5cb",
   "metadata": {},
   "outputs": [],
   "source": [
    "df_goal_assist = df_team[['team', 'goals', 'assists']].copy()\n",
    "df_goal_assist['goals_and_assists'] = df_goal_assist.goals + df_goal_assist.assists\n",
    "df_goal_assist.sort_values(by=['goals_and_assists'], ascending=False, inplace=True)\n",
    "df_goal_assist.reset_index(drop=True, inplace=True)\n",
    "\n",
    "team = df_goal_assist['team']\n",
    "goals = df_goal_assist['goals']\n",
    "assists = df_goal_assist['assists']\n",
    "width = 0.8\n",
    "\n",
    "fig, ax = plt.subplots(figsize=(16, 10))\n",
    "ax.bar(team, goals, width, label='Goals', color='limegreen')\n",
    "ax.bar(team, assists, width, bottom=goals, label='Assists', color='lime')\n",
    "ax.spines[['top', 'bottom', 'left', 'right']].set_visible(False) # Hide the top, bottom, left and right axis\n",
    "ax.set_title('Amount of Goals and Assists in Worldcup 2022', fontsize=20, fontweight='bold')\n",
    "ax.legend(fontsize=12)\n",
    "plt.xticks(team, rotation=90, fontsize=12)\n",
    "plt.tick_params(left = False, labelleft = False)\n",
    "\n",
    "# Add annotation to bars\n",
    "for index, goal in enumerate(goals):\n",
    "    plt.text(x=index, y=goal / 2, s=f\"{goal}\", ha='center')\n",
    "\n",
    "for index, assist in enumerate(assists):\n",
    "    plt.text(x=index, y=goals[index] + assist /2, s=f\"{assist}\",ha='center')\n",
    "\n",
    "    \n",
    "plt.show()"
   ]
  },
  {
   "cell_type": "markdown",
   "id": "d3b05b8d-7c89-48aa-b1a4-36f8a358577c",
   "metadata": {},
   "source": [
    "## TOP 10 Goalscorer"
   ]
  },
  {
   "cell_type": "code",
   "execution_count": null,
   "id": "3ea1316d-0976-4fd9-945a-94a4d39f3f26",
   "metadata": {},
   "outputs": [],
   "source": [
    "df_player[['player', 'goals']].sort_values(by='goals', ascending=False).head(10).plot(x='player', kind='bar', figsize=(16,12), width=0.8,\n",
    "                                                                                     color='chartreuse', edgecolor='forestgreen')\n",
    "plt.title('TOP 10 Goalscorer', loc='left', size=15, fontweight='bold')\n",
    "plt.xticks(rotation=45, fontsize=14)\n",
    "plt.yticks(fontsize=14)\n",
    "plt.xlabel(None)\n",
    "plt.legend([])\n",
    "\n",
    "# Add annotation to charts\n",
    "for index, goal in enumerate(df_player[['player', 'goals']].sort_values(by='goals', ascending=False).head(10)['goals']):\n",
    "    plt.text(x=index, y=goal * 0.9, s=f\"{goal}\", fontsize=16, ha='center')\n",
    "\n",
    "plt.show()"
   ]
  },
  {
   "cell_type": "markdown",
   "id": "8cc30e2d-8123-484b-a6d5-9e0fc4d025e1",
   "metadata": {},
   "source": [
    "## TOP 10 Assists"
   ]
  },
  {
   "cell_type": "code",
   "execution_count": null,
   "id": "a30a8ae1-efa7-4420-8b87-669fccbafd46",
   "metadata": {},
   "outputs": [],
   "source": [
    "df_player[['player', 'assists']].sort_values(by='assists', ascending=False).head(10).plot(x='player', kind='bar', figsize=(16,12), width=0.8,\n",
    "                                                                                     color='chartreuse', edgecolor='forestgreen')\n",
    "plt.title('TOP 10 Assists Player', loc='left', size=15, fontweight='bold')\n",
    "plt.xticks(rotation=45, fontsize=14)\n",
    "plt.yticks(np.arange(0,4,1),fontsize=14)\n",
    "plt.xlabel(None)\n",
    "plt.legend([])\n",
    "\n",
    "# Add annotation to charts\n",
    "for index, goal in enumerate(df_player[['player', 'assists']].sort_values(by='assists', ascending=False).head(10)['assists']):\n",
    "    plt.text(x=index, y=goal * 0.9, s=f\"{goal}\", fontsize=16, ha='center')\n",
    "\n",
    "plt.show()"
   ]
  },
  {
   "cell_type": "markdown",
   "id": "327d3297-9cb3-4912-85ec-510f4cec6a9f",
   "metadata": {},
   "source": [
    "## Goals by position"
   ]
  },
  {
   "cell_type": "code",
   "execution_count": null,
   "id": "0bcf4b0e-238d-40d7-a95d-71dcb7db2f91",
   "metadata": {},
   "outputs": [],
   "source": [
    "def func_goal(x, y):\n",
    "    absolute = int(round(x/100.*np.sum(y)))\n",
    "    return \"{:.1f}%\\n({:d} Goals)\".format(x, absolute)\n",
    "\n",
    "\n",
    "# params\n",
    "df_goals_per_position = df_player[['position', 'goals']].groupby('position').sum().sort_values(by='goals', ascending=False)\n",
    "goals_per_position = df_goals_per_position.goals.tolist()\n",
    "my_labels = df_goals_per_position.rename(index={'GK':'Goalkeeper', 'DF':'Defender', 'MF':'Midfielder', 'FW':'Forward'}).index.tolist()\n",
    "my_colors = ['seagreen', 'mediumseagreen', 'springgreen', 'mediumspringgreen']\n",
    "my_explode = [0.1, 0, 0, 0]\n",
    "\n",
    "\n",
    "# Pie chart\n",
    "fig, ax = plt.subplots(figsize=(12, 8))\n",
    "ax.pie(goals_per_position, explode=my_explode, labels=my_labels, colors=my_colors, autopct=lambda x: func_goal(x, goals_per_position), startangle=10, shadow=True)\n",
    "ax.set_title('Goals by position', loc='left', size=16, fontweight='bold')\n",
    "\n",
    "\n",
    "plt.show()"
   ]
  },
  {
   "cell_type": "markdown",
   "id": "2ed77cd5-d912-476a-9067-f39e97c47a90",
   "metadata": {},
   "source": [
    "## Assists by position"
   ]
  },
  {
   "cell_type": "code",
   "execution_count": null,
   "id": "5e1debad-a1c7-47a9-a910-ab3640b94797",
   "metadata": {},
   "outputs": [],
   "source": [
    "def func_assist(x, y):\n",
    "    absolute = int(round(x/100.*np.sum(y)))\n",
    "    return \"{:.1f}%\\n({:d} Assists)\".format(x, absolute)\n",
    "\n",
    "# params\n",
    "df_goals_per_position = df_player[['position', 'assists']].groupby('position').sum().sort_values(by='assists', ascending=False)\n",
    "assists_per_position = df_goals_per_position.assists.tolist()\n",
    "my_labels = df_goals_per_position.rename(index={'GK':'Goalkeeper', 'DF':'Defender', 'MF':'Midfielder', 'FW':'Forward'}).index.tolist()\n",
    "my_colors = ['seagreen', 'mediumseagreen', 'springgreen', 'mediumspringgreen']\n",
    "my_explode = [0.1, 0, 0, 0]\n",
    "\n",
    "# Pie chart\n",
    "fig, ax = plt.subplots(figsize=(12, 8))\n",
    "ax.pie(goals_per_position, explode=my_explode, labels=my_labels, colors=my_colors, autopct=lambda x: func_assist(x, assists_per_position), startangle=15, shadow=True)\n",
    "ax.set_title('Assists by position', loc='left', size=16, fontweight='bold')\n",
    "\n",
    "\n",
    "plt.show()"
   ]
  },
  {
   "cell_type": "markdown",
   "id": "94508dba-cbd0-4ecd-9057-1742334b39f5",
   "metadata": {},
   "source": [
    "# Passed Attempted"
   ]
  },
  {
   "cell_type": "code",
   "execution_count": null,
   "id": "6f588c72-3d16-4371-9e0b-6d971c3daf9f",
   "metadata": {},
   "outputs": [],
   "source": [
    "df_player_passing = pd.read_csv(\"./Player Data/player_passing.csv\")"
   ]
  },
  {
   "cell_type": "code",
   "execution_count": null,
   "id": "c4688c45-8bf5-4d14-a43c-d2924e11db3a",
   "metadata": {},
   "outputs": [],
   "source": [
    "df_player_passing[['player', 'passes']].sort_values(by='passes', ascending=False).head(10).plot(x='player', kind='bar', figsize=(16,12), width=0.8,\n",
    "                                                                                     color='chartreuse', edgecolor='forestgreen')\n",
    "plt.title('TOP 10 Passed Attempted', loc='left', size=15, fontweight='bold')\n",
    "plt.xticks(rotation=45, fontsize=14)\n",
    "plt.yticks(fontsize=14)\n",
    "plt.xlabel(None)\n",
    "plt.legend([])\n",
    "\n",
    "# Add annotation to charts\n",
    "for index, goal in enumerate(df_player_passing[['player', 'passes']].sort_values(by='passes', ascending=False).head(10)['passes']):\n",
    "    plt.text(x=index, y=goal * 0.9, s=f\"{goal}\", fontsize=16, ha='center')\n",
    "\n",
    "plt.show()"
   ]
  },
  {
   "cell_type": "code",
   "execution_count": null,
   "id": "6c00fb17-24a4-48fb-b79f-1162bd9f8a88",
   "metadata": {},
   "outputs": [],
   "source": [
    "df_player_passing.loc[df_player_passing.passes > 100, ['player', 'passes_pct']].sort_values(by='passes_pct', ascending=False).head(10).plot(x='player', kind='bar', figsize=(16,12), width=0.8, \n",
    "                                                                                                                                            color='chartreuse', edgecolor='forestgreen')\n",
    "plt.title('TOP 10 Accurate Passes Attempted', loc='left', size=15, fontweight='bold')\n",
    "plt.xticks(rotation=45, fontsize=14)\n",
    "plt.yticks(fontsize=14)\n",
    "plt.xlabel(None)\n",
    "plt.legend([])\n",
    "\n",
    "# Add annotation to charts\n",
    "for index, pct in enumerate(df_player_passing.loc[df_player_passing.passes > 100, ['player', 'passes_pct']].sort_values(by='passes_pct', ascending=False).head(10)['passes_pct']):\n",
    "    plt.text(x=index, y=pct * 0.9, s=f\"{pct}%\", fontsize=16, ha='center')\n",
    "\n",
    "plt.show()"
   ]
  },
  {
   "cell_type": "markdown",
   "id": "d659df9b-96fd-47ff-918f-2e5cfdc5b72f",
   "metadata": {},
   "source": [
    "# Player Age"
   ]
  },
  {
   "cell_type": "markdown",
   "id": "5723ec93-8db2-4b9c-bd88-5aea07cbe5fb",
   "metadata": {},
   "source": [
    "## List of the 10 oldest players"
   ]
  },
  {
   "cell_type": "code",
   "execution_count": 3,
   "id": "6e85236d-e76d-44bb-abc8-d0717bd6fda6",
   "metadata": {},
   "outputs": [
    {
     "ename": "NameError",
     "evalue": "name 'df_player' is not defined",
     "output_type": "error",
     "traceback": [
      "\u001b[1;31m---------------------------------------------------------------------------\u001b[0m",
      "\u001b[1;31mNameError\u001b[0m                                 Traceback (most recent call last)",
      "Input \u001b[1;32mIn [3]\u001b[0m, in \u001b[0;36m<cell line: 1>\u001b[1;34m()\u001b[0m\n\u001b[1;32m----> 1\u001b[0m df_old_players \u001b[38;5;241m=\u001b[39m \u001b[43mdf_player\u001b[49m[[\u001b[38;5;124m'\u001b[39m\u001b[38;5;124mplayer\u001b[39m\u001b[38;5;124m'\u001b[39m, \u001b[38;5;124m'\u001b[39m\u001b[38;5;124mage\u001b[39m\u001b[38;5;124m'\u001b[39m]]\u001b[38;5;241m.\u001b[39msort_values(by\u001b[38;5;241m=\u001b[39m\u001b[38;5;124m'\u001b[39m\u001b[38;5;124mage\u001b[39m\u001b[38;5;124m'\u001b[39m, ascending\u001b[38;5;241m=\u001b[39m\u001b[38;5;28;01mFalse\u001b[39;00m)\u001b[38;5;241m.\u001b[39mhead(\u001b[38;5;241m10\u001b[39m)\n\u001b[0;32m      2\u001b[0m df_old_players[\u001b[38;5;124m'\u001b[39m\u001b[38;5;124mage_years\u001b[39m\u001b[38;5;124m'\u001b[39m] \u001b[38;5;241m=\u001b[39m df_old_players\u001b[38;5;241m.\u001b[39mage\u001b[38;5;241m.\u001b[39mstr\u001b[38;5;241m.\u001b[39msplit(\u001b[38;5;124m'\u001b[39m\u001b[38;5;124m-\u001b[39m\u001b[38;5;124m'\u001b[39m, expand\u001b[38;5;241m=\u001b[39m\u001b[38;5;28;01mTrue\u001b[39;00m)[\u001b[38;5;241m0\u001b[39m]\u001b[38;5;241m.\u001b[39mapply(pd\u001b[38;5;241m.\u001b[39mto_numeric)\n\u001b[0;32m      3\u001b[0m df_old_players[\u001b[38;5;124m'\u001b[39m\u001b[38;5;124mage_days\u001b[39m\u001b[38;5;124m'\u001b[39m] \u001b[38;5;241m=\u001b[39m df_old_players\u001b[38;5;241m.\u001b[39mage\u001b[38;5;241m.\u001b[39mstr\u001b[38;5;241m.\u001b[39msplit(\u001b[38;5;124m'\u001b[39m\u001b[38;5;124m-\u001b[39m\u001b[38;5;124m'\u001b[39m, expand\u001b[38;5;241m=\u001b[39m\u001b[38;5;28;01mTrue\u001b[39;00m)[\u001b[38;5;241m1\u001b[39m]\u001b[38;5;241m.\u001b[39mapply(pd\u001b[38;5;241m.\u001b[39mto_numeric)\n",
      "\u001b[1;31mNameError\u001b[0m: name 'df_player' is not defined"
     ]
    }
   ],
   "source": [
    "df_old_players = df_player[['player', 'age']].sort_values(by='age', ascending=False).head(10)\n",
    "df_old_players['age_years'] = df_old_players.age.str.split('-', expand=True)[0].apply(pd.to_numeric)\n",
    "df_old_players['age_days'] = df_old_players.age.str.split('-', expand=True)[1].apply(pd.to_numeric)\n",
    "name = df_old_players.player\n",
    "age = df_old_players['age_years']\n",
    "\n",
    "fig, ax = plt.subplots(figsize=(16,10))\n",
    "ax.bar(name, age, color='chartreuse', edgecolor='forestgreen')\n",
    "ax.set_title('The oldest players', loc='left', size=16, fontweight='bold')\n",
    "ax.spines[['top', 'bottom', 'left', 'right']].set_visible(False) # Hide the top, bottom, left and right axis\n",
    "ax.invert_yaxis()\n",
    "plt.xticks(rotation=45, fontsize=14)\n",
    "plt.tick_params(left = False, labelleft = False)\n",
    "\n",
    "\n",
    "\n",
    "# Add annotation to charts\n",
    "for index, year in enumerate(df_old_players['age_years']):\n",
    "    for day in df_old_players['age_days'].apply(pd.to_numeric): pass\n",
    "    plt.text(x=index, y=year * 0.95, s=f\"{year} years\\n{day} days\", fontsize=12, ha='center')\n",
    "    \n",
    "\n",
    "plt.show()"
   ]
  },
  {
   "cell_type": "markdown",
   "id": "9913513b-2008-4cd0-b862-d69f7d9f5243",
   "metadata": {},
   "source": [
    "## List of the 10 youngest players"
   ]
  },
  {
   "cell_type": "code",
   "execution_count": null,
   "id": "283adac8-f46b-4cf1-9220-7e722f85754b",
   "metadata": {},
   "outputs": [],
   "source": [
    "df_young_players = df_player[['player', 'age']].sort_values(by='age', ascending=True).head(10)\n",
    "df_young_players['age_years'] = df_young_players.age.str.split('-', expand=True)[0].apply(pd.to_numeric)\n",
    "df_young_players['age_days'] = df_young_players.age.str.split('-', expand=True)[1].apply(pd.to_numeric)\n",
    "name = df_young_players.player\n",
    "age = df_young_players['age_years']\n",
    "\n",
    "fig, ax = plt.subplots(figsize=(16,10))\n",
    "ax.bar(name, age, color='chartreuse', edgecolor='forestgreen')\n",
    "ax.set_title('The youngest players', loc='left', size=16, fontweight='bold')\n",
    "ax.spines[['top', 'bottom', 'left', 'right']].set_visible(False) # Hide the top, bottom, left and right axis\n",
    "ax.invert_yaxis()\n",
    "plt.xticks(rotation=45, fontsize=14)\n",
    "plt.tick_params(left = False, labelleft = False)\n",
    "\n",
    "# Add annotation to charts\n",
    "for index, year in enumerate(df_young_players['age_years']):\n",
    "    for day in df_young_players['age_days'].apply(pd.to_numeric): pass\n",
    "    plt.text(x=index, y=year * 0.95, s=f\"{year} years\\n{day} days\", fontsize=12, ha='center')\n",
    "    \n",
    "\n",
    "plt.show()"
   ]
  },
  {
   "cell_type": "markdown",
   "id": "52ac1547-1f11-4345-b0ed-c830cd5d00f0",
   "metadata": {},
   "source": [
    "## Average age by position"
   ]
  },
  {
   "cell_type": "code",
   "execution_count": null,
   "id": "16fc4b07-b478-4929-9025-0a2a759fa8ed",
   "metadata": {},
   "outputs": [],
   "source": [
    "df_team[['team', 'avg_age']]"
   ]
  },
  {
   "cell_type": "code",
   "execution_count": null,
   "id": "35f2a40c-eb42-44d1-a624-d24e47ea0211",
   "metadata": {},
   "outputs": [],
   "source": [
    "def leapdays(y1, y2):\n",
    "    y1 -= 1\n",
    "    y2 -= 1\n",
    "    return (y2//4 - y1//4) - (y2//100 - y1//100) + (y2//400 - y1//400)\n",
    "\n",
    "leapdays(y1, y2)"
   ]
  },
  {
   "cell_type": "code",
   "execution_count": null,
   "id": "3105e325-4be1-405f-b24f-f6cc5f2961f1",
   "metadata": {},
   "outputs": [],
   "source": [
    "df_player.loc[df_player['team'] == 'Argentina', ['player' ,'position', 'team', 'age', 'birth_year']].sort_values(by='position')"
   ]
  },
  {
   "cell_type": "code",
   "execution_count": null,
   "id": "f2f060f6-3743-41c3-af4d-e8494497f7d0",
   "metadata": {},
   "outputs": [],
   "source": []
  },
  {
   "cell_type": "code",
   "execution_count": null,
   "id": "01699e30-5c73-475d-9a7d-7800513f579c",
   "metadata": {},
   "outputs": [],
   "source": [
    "player_argentina = df_player.loc[df_player['team'] == 'Argentina', ['player' ,'position', 'team', 'age', 'birth_year']].copy()\n",
    "player_argentina['age_year'] = player_argentina['age'].str.split('-', expand=True)[0].apply(pd.to_numeric)\n",
    "player_argentina['age_day'] = player_argentina['age'].str.split('-', expand=True)[1].apply(pd.to_numeric)\n",
    "player_argentina['age_days'] = player_argentina['age_year'] * 365 + player_argentina['age_day'] + df_player_age['birth_year'].apply(lambda x: leapdays(x, 2022))\n",
    "player_argentina"
   ]
  },
  {
   "cell_type": "code",
   "execution_count": null,
   "id": "4defa281-46da-42aa-9461-fc8227d55deb",
   "metadata": {},
   "outputs": [],
   "source": [
    "(player_argentina['age_days'].sum() + 13235 + 11192) / 26 / 365"
   ]
  },
  {
   "cell_type": "code",
   "execution_count": null,
   "id": "6caebb02-9189-44e9-89c5-12b5a6628068",
   "metadata": {},
   "outputs": [],
   "source": [
    "df_player_age = df_player[['player' ,'position', 'team', 'age', 'birth_year']].copy()\n",
    "df_player_age"
   ]
  },
  {
   "cell_type": "markdown",
   "id": "d82e7c28-b722-4d76-b556-1c65fa7dc416",
   "metadata": {},
   "source": [
    "## Average age of team in Worldcup 2022"
   ]
  },
  {
   "cell_type": "code",
   "execution_count": null,
   "id": "95326538-ad71-4977-b9c5-20f50688bdd9",
   "metadata": {},
   "outputs": [],
   "source": []
  },
  {
   "cell_type": "code",
   "execution_count": null,
   "id": "dd534ba5-a61e-4c51-97ce-02198f2e9e33",
   "metadata": {},
   "outputs": [],
   "source": []
  },
  {
   "cell_type": "markdown",
   "id": "fc700987-d612-4d2c-a820-e4115b839016",
   "metadata": {},
   "source": [
    "## Age range in all teams in Worldcup 2022"
   ]
  },
  {
   "cell_type": "code",
   "execution_count": null,
   "id": "ef9f9034-8aa4-48f4-aeaf-b5499a34d664",
   "metadata": {},
   "outputs": [],
   "source": []
  },
  {
   "cell_type": "code",
   "execution_count": null,
   "id": "cf146fa7-f6ee-4cfb-8e18-704bfcb33959",
   "metadata": {},
   "outputs": [],
   "source": []
  }
 ],
 "metadata": {
  "kernelspec": {
   "display_name": "Python 3 (ipykernel)",
   "language": "python",
   "name": "python3"
  },
  "language_info": {
   "codemirror_mode": {
    "name": "ipython",
    "version": 3
   },
   "file_extension": ".py",
   "mimetype": "text/x-python",
   "name": "python",
   "nbconvert_exporter": "python",
   "pygments_lexer": "ipython3",
   "version": "3.10.4"
  },
  "toc-autonumbering": true,
  "toc-showmarkdowntxt": true
 },
 "nbformat": 4,
 "nbformat_minor": 5
}
